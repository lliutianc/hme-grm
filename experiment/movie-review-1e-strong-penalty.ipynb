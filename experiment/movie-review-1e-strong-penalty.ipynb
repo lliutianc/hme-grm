{
 "cells": [
  {
   "cell_type": "code",
   "execution_count": 1,
   "id": "f8b7d31e",
   "metadata": {},
   "outputs": [],
   "source": [
    "import pandas as pd\n",
    "import numpy as np\n",
    "\n",
    "from movie import load_movie\n",
    "from model import HME\n",
    "\n",
    "from sklearn.linear_model import SGDClassifier\n",
    "from sklearn.model_selection import train_test_split\n",
    "from sklearn.metrics import confusion_matrix"
   ]
  },
  {
   "cell_type": "code",
   "execution_count": 2,
   "id": "0be66f80",
   "metadata": {},
   "outputs": [],
   "source": [
    "x_train, x_test, y_train, y_test = load_movie('train', data_limit=5000, train_ratio=0.8)"
   ]
  },
  {
   "cell_type": "code",
   "execution_count": 3,
   "id": "4aea988c",
   "metadata": {},
   "outputs": [
    {
     "data": {
      "text/plain": [
       "(4000, 5879)"
      ]
     },
     "execution_count": 3,
     "metadata": {},
     "output_type": "execute_result"
    }
   ],
   "source": [
    "x_train.shape"
   ]
  },
  {
   "cell_type": "code",
   "execution_count": 4,
   "id": "9e28d047",
   "metadata": {},
   "outputs": [],
   "source": [
    "n_feature = x_train.shape[1]\n",
    "n_level = 2\n",
    "\n",
    "n_expert1 = 4\n",
    "n_expert2 = 4\n",
    "\n",
    "hme = HME(n_feature, n_expert1, n_expert2, n_level, \n",
    "          batch_size=64,\n",
    "          lr=1., l1_coef=0.001, l21_coef=0.001,\n",
    "          algo='fista')"
   ]
  },
  {
   "cell_type": "code",
   "execution_count": 5,
   "id": "733a38df",
   "metadata": {},
   "outputs": [
    {
     "name": "stdout",
     "output_type": "stream",
     "text": [
      "0.4615\n"
     ]
    },
    {
     "data": {
      "text/plain": [
       "array([[ 535,  610],\n",
       "       [1544, 1311]])"
      ]
     },
     "execution_count": 5,
     "metadata": {},
     "output_type": "execute_result"
    }
   ],
   "source": [
    "print((hme.predict(x=x_train)==y_train).mean())\n",
    "confusion_matrix(hme.predict(x=x_train), y_train)"
   ]
  },
  {
   "cell_type": "code",
   "execution_count": 6,
   "id": "d08293fd",
   "metadata": {},
   "outputs": [
    {
     "name": "stdout",
     "output_type": "stream",
     "text": [
      "[accu: 0.8155]\n",
      "[accu: 0.8165]\n",
      "[accu: 0.8245]\n",
      "[accu: 0.838]\n",
      "[accu: 0.82775]\n",
      "[accu: 0.82325]\n",
      "[accu: 0.81475]\n",
      "[accu: 0.8205]\n",
      "stop increasing accuracy at iter: 1600\n"
     ]
    }
   ],
   "source": [
    "max_iter = 10000\n",
    "stop_thre = 3\n",
    "\n",
    "hme.fit(x_train, y_train, max_iter=max_iter, stop_thre=stop_thre, log_interval=max_iter // 50)"
   ]
  },
  {
   "cell_type": "code",
   "execution_count": 7,
   "id": "fb60c476",
   "metadata": {},
   "outputs": [
    {
     "name": "stdout",
     "output_type": "stream",
     "text": [
      "0.82\n"
     ]
    },
    {
     "data": {
      "text/plain": [
       "array([[1701,  378],\n",
       "       [ 342, 1579]])"
      ]
     },
     "execution_count": 7,
     "metadata": {},
     "output_type": "execute_result"
    }
   ],
   "source": [
    "print((hme.predict(x=x_train)==y_train).mean())\n",
    "confusion_matrix(y_train, hme.predict(x=x_train))"
   ]
  },
  {
   "cell_type": "code",
   "execution_count": 8,
   "id": "d6bebdc4",
   "metadata": {},
   "outputs": [
    {
     "name": "stdout",
     "output_type": "stream",
     "text": [
      "0.771\n"
     ]
    },
    {
     "data": {
      "text/plain": [
       "array([[389, 114],\n",
       "       [115, 382]])"
      ]
     },
     "execution_count": 8,
     "metadata": {},
     "output_type": "execute_result"
    }
   ],
   "source": [
    "print((hme.predict(x=x_test)==y_test).mean())\n",
    "confusion_matrix(y_test, hme.predict(x=x_test))"
   ]
  },
  {
   "cell_type": "markdown",
   "id": "9944f595",
   "metadata": {},
   "source": [
    "# Decision Tree"
   ]
  },
  {
   "cell_type": "code",
   "execution_count": 9,
   "id": "7dd7d27c",
   "metadata": {},
   "outputs": [
    {
     "data": {
      "text/plain": [
       "DecisionTreeClassifier(max_depth=4)"
      ]
     },
     "execution_count": 9,
     "metadata": {},
     "output_type": "execute_result"
    }
   ],
   "source": [
    "from sklearn.tree import DecisionTreeClassifier\n",
    "\n",
    "dt = DecisionTreeClassifier(max_depth=4)\n",
    "dt.fit(x_train, y_train.ravel())"
   ]
  },
  {
   "cell_type": "code",
   "execution_count": 10,
   "id": "0c1489de",
   "metadata": {},
   "outputs": [
    {
     "name": "stdout",
     "output_type": "stream",
     "text": [
      "0.67875\n"
     ]
    },
    {
     "data": {
      "text/plain": [
       "array([[ 963, 1116],\n",
       "       [ 169, 1752]])"
      ]
     },
     "execution_count": 10,
     "metadata": {},
     "output_type": "execute_result"
    }
   ],
   "source": [
    "y_pred = dt.predict(x_train)\n",
    "y_real = y_train.ravel()\n",
    "\n",
    "print((y_pred==y_real).mean())\n",
    "confusion_matrix(y_real, y_pred)"
   ]
  },
  {
   "cell_type": "code",
   "execution_count": 11,
   "id": "0fb43586",
   "metadata": {},
   "outputs": [
    {
     "name": "stdout",
     "output_type": "stream",
     "text": [
      "0.675\n"
     ]
    },
    {
     "data": {
      "text/plain": [
       "array([[233, 270],\n",
       "       [ 55, 442]])"
      ]
     },
     "execution_count": 11,
     "metadata": {},
     "output_type": "execute_result"
    }
   ],
   "source": [
    "y_pred = dt.predict(x_test)\n",
    "y_real = y_test.ravel()\n",
    "\n",
    "print((y_pred==y_real).mean())\n",
    "confusion_matrix(y_real, y_pred)"
   ]
  },
  {
   "cell_type": "markdown",
   "id": "06e2ee38",
   "metadata": {},
   "source": [
    "# Random Forest"
   ]
  },
  {
   "cell_type": "code",
   "execution_count": 12,
   "id": "8902b899",
   "metadata": {},
   "outputs": [
    {
     "data": {
      "text/plain": [
       "RandomForestClassifier(max_depth=4)"
      ]
     },
     "execution_count": 12,
     "metadata": {},
     "output_type": "execute_result"
    }
   ],
   "source": [
    "from sklearn.ensemble import RandomForestClassifier\n",
    "\n",
    "rf = RandomForestClassifier(max_depth=4)\n",
    "rf.fit(x_train, y_train.ravel())"
   ]
  },
  {
   "cell_type": "code",
   "execution_count": 13,
   "id": "356ff71d",
   "metadata": {},
   "outputs": [
    {
     "name": "stdout",
     "output_type": "stream",
     "text": [
      "0.816\n"
     ]
    },
    {
     "data": {
      "text/plain": [
       "array([[1972,  107],\n",
       "       [ 629, 1292]])"
      ]
     },
     "execution_count": 13,
     "metadata": {},
     "output_type": "execute_result"
    }
   ],
   "source": [
    "y_pred = rf.predict(x_train)\n",
    "y_real = y_train.ravel()\n",
    "\n",
    "print((y_pred==y_real).mean())\n",
    "confusion_matrix(y_real, y_pred)"
   ]
  },
  {
   "cell_type": "code",
   "execution_count": 14,
   "id": "880e43bb",
   "metadata": {},
   "outputs": [
    {
     "name": "stdout",
     "output_type": "stream",
     "text": [
      "0.752\n"
     ]
    },
    {
     "data": {
      "text/plain": [
       "array([[454,  49],\n",
       "       [199, 298]])"
      ]
     },
     "execution_count": 14,
     "metadata": {},
     "output_type": "execute_result"
    }
   ],
   "source": [
    "y_pred = rf.predict(x_test)\n",
    "y_real = y_test.ravel()\n",
    "\n",
    "print((y_pred==y_real).mean())\n",
    "confusion_matrix(y_real, y_pred)"
   ]
  },
  {
   "cell_type": "code",
   "execution_count": null,
   "id": "08c79aa0",
   "metadata": {},
   "outputs": [],
   "source": []
  }
 ],
 "metadata": {
  "kernelspec": {
   "display_name": "Python 3",
   "language": "python",
   "name": "python3"
  },
  "language_info": {
   "codemirror_mode": {
    "name": "ipython",
    "version": 3
   },
   "file_extension": ".py",
   "mimetype": "text/x-python",
   "name": "python",
   "nbconvert_exporter": "python",
   "pygments_lexer": "ipython3",
   "version": "3.8.8"
  }
 },
 "nbformat": 4,
 "nbformat_minor": 5
}
