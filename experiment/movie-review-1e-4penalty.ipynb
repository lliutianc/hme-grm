{
 "cells": [
  {
   "cell_type": "code",
   "execution_count": 1,
   "id": "02597c8c",
   "metadata": {},
   "outputs": [],
   "source": [
    "import pandas as pd\n",
    "import numpy as np\n",
    "\n",
    "from movie import load_movie\n",
    "from model import HME\n",
    "\n",
    "from sklearn.linear_model import SGDClassifier\n",
    "from sklearn.model_selection import train_test_split\n",
    "from sklearn.metrics import confusion_matrix"
   ]
  },
  {
   "cell_type": "code",
   "execution_count": 2,
   "id": "3e09dc51",
   "metadata": {},
   "outputs": [],
   "source": [
    "x_train, x_test, y_train, y_test = load_movie('train', data_limit=5000, train_ratio=0.8)"
   ]
  },
  {
   "cell_type": "code",
   "execution_count": 3,
   "id": "3631b047",
   "metadata": {},
   "outputs": [
    {
     "data": {
      "text/plain": [
       "(4000, 5879)"
      ]
     },
     "execution_count": 3,
     "metadata": {},
     "output_type": "execute_result"
    }
   ],
   "source": [
    "x_train.shape"
   ]
  },
  {
   "cell_type": "code",
   "execution_count": 24,
   "id": "9babc54d",
   "metadata": {},
   "outputs": [],
   "source": [
    "n_feature = x_train.shape[1]\n",
    "n_level = 2\n",
    "\n",
    "n_expert1 = 4\n",
    "n_expert2 = 4\n",
    "\n",
    "hme = HME(n_feature, n_expert1, n_expert2, n_level, \n",
    "          batch_size=64,\n",
    "          lr=1., l1_coef=0.0001, l21_coef=0.0001,\n",
    "          algo='fista')"
   ]
  },
  {
   "cell_type": "code",
   "execution_count": 25,
   "id": "22fa6158",
   "metadata": {},
   "outputs": [
    {
     "name": "stdout",
     "output_type": "stream",
     "text": [
      "0.48375\n"
     ]
    },
    {
     "data": {
      "text/plain": [
       "array([[ 813,  823],\n",
       "       [1242, 1122]])"
      ]
     },
     "execution_count": 25,
     "metadata": {},
     "output_type": "execute_result"
    }
   ],
   "source": [
    "print((hme.predict(x=x_train)==y_train).mean())\n",
    "confusion_matrix(hme.predict(x=x_train), y_train)"
   ]
  },
  {
   "cell_type": "code",
   "execution_count": 26,
   "id": "b2adc744",
   "metadata": {},
   "outputs": [
    {
     "name": "stdout",
     "output_type": "stream",
     "text": [
      "[accu: 0.9295], [loss: 19.230246793347895], [nllk: 0.2651913002330248]\n",
      "[accu: 0.93575], [loss: 70.84243434133488], [nllk: 0.2793930445689668]\n",
      "[accu: 0.9525], [loss: 84.51247505432373], [nllk: 0.2508994527397308]\n",
      "[accu: 0.95775], [loss: 111.61420209873394], [nllk: 0.24354183752713437]\n",
      "[accu: 0.96025], [loss: 133.7696611931432], [nllk: 0.23946407825119148]\n",
      "[accu: 0.9595], [loss: 151.14947986460461], [nllk: 0.2412025060119526]\n",
      "[accu: 0.96025], [loss: 176.84518927968693], [nllk: 0.24157154368975164]\n",
      "[accu: 0.9615], [loss: 204.04148780139434], [nllk: 0.2434251596432967]\n",
      "[accu: 0.9625], [loss: 223.8392343382666], [nllk: 0.24175319193689127]\n",
      "[accu: 0.9635], [loss: 246.9923710455344], [nllk: 0.24107187053112467]\n",
      "[accu: 0.96325], [loss: 263.35980951470424], [nllk: 0.23936287250461563]\n",
      "[accu: 0.96475], [loss: 285.2422620469878], [nllk: 0.2399725578288706]\n",
      "[accu: 0.9615], [loss: 308.0098477713177], [nllk: 0.24394355478502905]\n",
      "[accu: 0.9645], [loss: 325.9855612429263], [nllk: 0.2391635144548572]\n",
      "[accu: 0.964], [loss: 344.56427474521445], [nllk: 0.2406377377419119]\n",
      "[accu: 0.9645], [loss: 363.2100423060056], [nllk: 0.2403018481092087]\n",
      "stop increasing accuracy at iter: 3200\n"
     ]
    }
   ],
   "source": [
    "max_iter = 10000\n",
    "stop_thre = 3\n",
    "\n",
    "hme.fit(x_train, y_train, max_iter=max_iter, stop_thre=stop_thre, log_interval=max_iter // 50)"
   ]
  },
  {
   "cell_type": "markdown",
   "id": "3af4a291",
   "metadata": {},
   "source": [
    "print((hme.predict(x=x_train)==y_train).mean())\n",
    "confusion_matrix(y_train, hme.predict(x=x_train))"
   ]
  },
  {
   "cell_type": "code",
   "execution_count": 28,
   "id": "ecc63648",
   "metadata": {},
   "outputs": [
    {
     "name": "stdout",
     "output_type": "stream",
     "text": [
      "0.829\n"
     ]
    },
    {
     "data": {
      "text/plain": [
       "array([[442,  85],\n",
       "       [ 86, 387]])"
      ]
     },
     "execution_count": 28,
     "metadata": {},
     "output_type": "execute_result"
    }
   ],
   "source": [
    "print((hme.predict(x=x_test)==y_test).mean())\n",
    "confusion_matrix(y_test, hme.predict(x=x_test))"
   ]
  },
  {
   "cell_type": "markdown",
   "id": "78c93c19",
   "metadata": {},
   "source": [
    "# Decision Tree"
   ]
  },
  {
   "cell_type": "code",
   "execution_count": 44,
   "id": "c32b2dc7",
   "metadata": {},
   "outputs": [
    {
     "data": {
      "text/plain": [
       "DecisionTreeClassifier(max_depth=4)"
      ]
     },
     "execution_count": 44,
     "metadata": {},
     "output_type": "execute_result"
    }
   ],
   "source": [
    "from sklearn.tree import DecisionTreeClassifier\n",
    "\n",
    "dt = DecisionTreeClassifier(max_depth=4)\n",
    "dt.fit(x_train, y_train.ravel())"
   ]
  },
  {
   "cell_type": "code",
   "execution_count": 45,
   "id": "4290b456",
   "metadata": {
    "tags": []
   },
   "outputs": [
    {
     "name": "stdout",
     "output_type": "stream",
     "text": [
      "0.68175\n"
     ]
    },
    {
     "data": {
      "text/plain": [
       "array([[ 978, 1077],\n",
       "       [ 196, 1749]])"
      ]
     },
     "execution_count": 45,
     "metadata": {},
     "output_type": "execute_result"
    }
   ],
   "source": [
    "y_pred = dt.predict(x_train)\n",
    "y_real = y_train.ravel()\n",
    "\n",
    "print((y_pred==y_real).mean())\n",
    "confusion_matrix(y_real, y_pred)"
   ]
  },
  {
   "cell_type": "code",
   "execution_count": 46,
   "id": "29a75f90",
   "metadata": {},
   "outputs": [
    {
     "name": "stdout",
     "output_type": "stream",
     "text": [
      "0.656\n"
     ]
    },
    {
     "data": {
      "text/plain": [
       "array([[243, 284],\n",
       "       [ 60, 413]])"
      ]
     },
     "execution_count": 46,
     "metadata": {},
     "output_type": "execute_result"
    }
   ],
   "source": [
    "y_pred = dt.predict(x_test)\n",
    "y_real = y_test.ravel()\n",
    "\n",
    "print((y_pred==y_real).mean())\n",
    "confusion_matrix(y_real, y_pred)"
   ]
  },
  {
   "cell_type": "markdown",
   "id": "d371d270",
   "metadata": {},
   "source": [
    "# Unconstrained DT"
   ]
  },
  {
   "cell_type": "code",
   "execution_count": 4,
   "id": "f352162c",
   "metadata": {},
   "outputs": [
    {
     "data": {
      "text/plain": [
       "DecisionTreeClassifier()"
      ]
     },
     "execution_count": 4,
     "metadata": {},
     "output_type": "execute_result"
    }
   ],
   "source": [
    "from sklearn.tree import DecisionTreeClassifier\n",
    "\n",
    "dt = DecisionTreeClassifier()\n",
    "dt.fit(x_train, y_train.ravel())"
   ]
  },
  {
   "cell_type": "code",
   "execution_count": 5,
   "id": "7e120224",
   "metadata": {},
   "outputs": [
    {
     "name": "stdout",
     "output_type": "stream",
     "text": [
      "1.0\n"
     ]
    },
    {
     "data": {
      "text/plain": [
       "array([[2047,    0],\n",
       "       [   0, 1953]])"
      ]
     },
     "execution_count": 5,
     "metadata": {},
     "output_type": "execute_result"
    }
   ],
   "source": [
    "y_pred = dt.predict(x_train)\n",
    "y_real = y_train.ravel()\n",
    "\n",
    "print((y_pred==y_real).mean())\n",
    "confusion_matrix(y_real, y_pred)"
   ]
  },
  {
   "cell_type": "code",
   "execution_count": 6,
   "id": "3c501111",
   "metadata": {},
   "outputs": [
    {
     "name": "stdout",
     "output_type": "stream",
     "text": [
      "0.661\n"
     ]
    },
    {
     "data": {
      "text/plain": [
       "array([[357, 178],\n",
       "       [161, 304]])"
      ]
     },
     "execution_count": 6,
     "metadata": {},
     "output_type": "execute_result"
    }
   ],
   "source": [
    "y_pred = dt.predict(x_test)\n",
    "y_real = y_test.ravel()\n",
    "\n",
    "print((y_pred==y_real).mean())\n",
    "confusion_matrix(y_real, y_pred)"
   ]
  },
  {
   "cell_type": "code",
   "execution_count": null,
   "id": "ba5470db",
   "metadata": {},
   "outputs": [],
   "source": []
  },
  {
   "cell_type": "code",
   "execution_count": null,
   "id": "01b21615",
   "metadata": {},
   "outputs": [],
   "source": []
  },
  {
   "cell_type": "code",
   "execution_count": 32,
   "id": "ceb917aa",
   "metadata": {},
   "outputs": [
    {
     "data": {
      "text/plain": [
       "RandomForestClassifier(max_depth=4)"
      ]
     },
     "execution_count": 32,
     "metadata": {},
     "output_type": "execute_result"
    }
   ],
   "source": [
    "from sklearn.ensemble import RandomForestClassifier\n",
    "\n",
    "rf = RandomForestClassifier(max_depth=4)\n",
    "rf.fit(x_train, y_train.ravel())"
   ]
  },
  {
   "cell_type": "code",
   "execution_count": 33,
   "id": "25f8bd4c",
   "metadata": {},
   "outputs": [
    {
     "name": "stdout",
     "output_type": "stream",
     "text": [
      "0.82875\n"
     ]
    },
    {
     "data": {
      "text/plain": [
       "array([[1869,  186],\n",
       "       [ 499, 1446]])"
      ]
     },
     "execution_count": 33,
     "metadata": {},
     "output_type": "execute_result"
    }
   ],
   "source": [
    "y_pred = rf.predict(x_train)\n",
    "y_real = y_train.ravel()\n",
    "\n",
    "print((y_pred==y_real).mean())\n",
    "confusion_matrix(y_real, y_pred)"
   ]
  },
  {
   "cell_type": "code",
   "execution_count": 34,
   "id": "ec0f08af",
   "metadata": {},
   "outputs": [
    {
     "name": "stdout",
     "output_type": "stream",
     "text": [
      "0.79\n"
     ]
    },
    {
     "data": {
      "text/plain": [
       "array([[469,  58],\n",
       "       [152, 321]])"
      ]
     },
     "execution_count": 34,
     "metadata": {},
     "output_type": "execute_result"
    }
   ],
   "source": [
    "y_pred = rf.predict(x_test)\n",
    "y_real = y_test.ravel()\n",
    "\n",
    "print((y_pred==y_real).mean())\n",
    "confusion_matrix(y_real, y_pred)"
   ]
  },
  {
   "cell_type": "markdown",
   "id": "b70cf3e9",
   "metadata": {},
   "source": [
    "# Unconstrained RF"
   ]
  },
  {
   "cell_type": "code",
   "execution_count": 7,
   "id": "9c622482",
   "metadata": {},
   "outputs": [
    {
     "data": {
      "text/plain": [
       "RandomForestClassifier()"
      ]
     },
     "execution_count": 7,
     "metadata": {},
     "output_type": "execute_result"
    }
   ],
   "source": [
    "from sklearn.ensemble import RandomForestClassifier\n",
    "\n",
    "rf = RandomForestClassifier()\n",
    "rf.fit(x_train, y_train.ravel())"
   ]
  },
  {
   "cell_type": "code",
   "execution_count": 8,
   "id": "ad5768a7",
   "metadata": {},
   "outputs": [
    {
     "name": "stdout",
     "output_type": "stream",
     "text": [
      "1.0\n"
     ]
    },
    {
     "data": {
      "text/plain": [
       "array([[2047,    0],\n",
       "       [   0, 1953]])"
      ]
     },
     "execution_count": 8,
     "metadata": {},
     "output_type": "execute_result"
    }
   ],
   "source": [
    "y_pred = rf.predict(x_train)\n",
    "y_real = y_train.ravel()\n",
    "\n",
    "print((y_pred==y_real).mean())\n",
    "confusion_matrix(y_real, y_pred)"
   ]
  },
  {
   "cell_type": "code",
   "execution_count": 9,
   "id": "dacdb2d1",
   "metadata": {},
   "outputs": [
    {
     "name": "stdout",
     "output_type": "stream",
     "text": [
      "0.811\n"
     ]
    },
    {
     "data": {
      "text/plain": [
       "array([[453,  82],\n",
       "       [107, 358]])"
      ]
     },
     "execution_count": 9,
     "metadata": {},
     "output_type": "execute_result"
    }
   ],
   "source": [
    "y_pred = rf.predict(x_test)\n",
    "y_real = y_test.ravel()\n",
    "\n",
    "print((y_pred==y_real).mean())\n",
    "confusion_matrix(y_real, y_pred)"
   ]
  },
  {
   "cell_type": "code",
   "execution_count": null,
   "id": "446f3541",
   "metadata": {},
   "outputs": [],
   "source": []
  }
 ],
 "metadata": {
  "kernelspec": {
   "display_name": "Python 3",
   "language": "python",
   "name": "python3"
  },
  "language_info": {
   "codemirror_mode": {
    "name": "ipython",
    "version": 3
   },
   "file_extension": ".py",
   "mimetype": "text/x-python",
   "name": "python",
   "nbconvert_exporter": "python",
   "pygments_lexer": "ipython3",
   "version": "3.8.8"
  }
 },
 "nbformat": 4,
 "nbformat_minor": 5
}
