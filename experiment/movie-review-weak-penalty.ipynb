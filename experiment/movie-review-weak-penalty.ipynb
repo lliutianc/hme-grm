{
 "cells": [
  {
   "cell_type": "code",
   "execution_count": 1,
   "id": "412886b0",
   "metadata": {},
   "outputs": [],
   "source": [
    "import pandas as pd\n",
    "import numpy as np\n",
    "\n",
    "from movie import load_movie\n",
    "from model import HME\n",
    "\n",
    "from sklearn.linear_model import SGDClassifier\n",
    "from sklearn.model_selection import train_test_split\n",
    "from sklearn.metrics import confusion_matrix"
   ]
  },
  {
   "cell_type": "code",
   "execution_count": 2,
   "id": "92cbe133",
   "metadata": {},
   "outputs": [],
   "source": [
    "x_train, x_test, y_train, y_test = load_movie('train', data_limit=5000, train_ratio=0.8)"
   ]
  },
  {
   "cell_type": "code",
   "execution_count": 3,
   "id": "8fbc3785",
   "metadata": {},
   "outputs": [
    {
     "data": {
      "text/plain": [
       "(4000, 5879)"
      ]
     },
     "execution_count": 3,
     "metadata": {},
     "output_type": "execute_result"
    }
   ],
   "source": [
    "x_train.shape"
   ]
  },
  {
   "cell_type": "code",
   "execution_count": 4,
   "id": "ad00833d",
   "metadata": {},
   "outputs": [],
   "source": [
    "n_feature = x_train.shape[1]\n",
    "n_level = 2\n",
    "\n",
    "n_expert1 = 4\n",
    "n_expert2 = 4\n",
    "\n",
    "hme = HME(n_feature, n_expert1, n_expert2, n_level, \n",
    "          batch_size=64,\n",
    "          lr=1., l1_coef=0.0001, l21_coef=0.0001,\n",
    "          algo='fista')"
   ]
  },
  {
   "cell_type": "code",
   "execution_count": 5,
   "id": "7e182f40",
   "metadata": {},
   "outputs": [
    {
     "name": "stdout",
     "output_type": "stream",
     "text": [
      "0.4715\n"
     ]
    },
    {
     "data": {
      "text/plain": [
       "array([[ 529,  564],\n",
       "       [1550, 1357]])"
      ]
     },
     "execution_count": 5,
     "metadata": {},
     "output_type": "execute_result"
    }
   ],
   "source": [
    "print((hme.predict(x=x_train)==y_train).mean())\n",
    "confusion_matrix(hme.predict(x=x_train), y_train)"
   ]
  },
  {
   "cell_type": "code",
   "execution_count": 6,
   "id": "222a6e70",
   "metadata": {},
   "outputs": [
    {
     "name": "stdout",
     "output_type": "stream",
     "text": [
      "[accu: 0.92875]\n",
      "[accu: 0.946]\n",
      "[accu: 0.95]\n",
      "[accu: 0.955]\n",
      "[accu: 0.95775]\n",
      "[accu: 0.96075]\n",
      "[accu: 0.9605]\n",
      "[accu: 0.95875]\n",
      "[accu: 0.9635]\n",
      "[accu: 0.96525]\n",
      "[accu: 0.96575]\n",
      "[accu: 0.9655]\n",
      "[accu: 0.9665]\n",
      "[accu: 0.96725]\n",
      "[accu: 0.968]\n",
      "[accu: 0.96725]\n",
      "[accu: 0.9645]\n",
      "[accu: 0.96675]\n",
      "[accu: 0.9665]\n",
      "stop increasing accuracy at iter: 3800\n"
     ]
    }
   ],
   "source": [
    "max_iter = 10000\n",
    "stop_thre = 3\n",
    "\n",
    "hme.fit(x_train, y_train, max_iter=max_iter, stop_thre=stop_thre, log_interval=max_iter // 50)"
   ]
  },
  {
   "cell_type": "code",
   "execution_count": 7,
   "id": "71db4f13",
   "metadata": {},
   "outputs": [
    {
     "name": "stdout",
     "output_type": "stream",
     "text": [
      "0.9665\n"
     ]
    },
    {
     "data": {
      "text/plain": [
       "array([[2009,   70],\n",
       "       [  64, 1857]])"
      ]
     },
     "execution_count": 7,
     "metadata": {},
     "output_type": "execute_result"
    }
   ],
   "source": [
    "print((hme.predict(x=x_train)==y_train).mean())\n",
    "confusion_matrix(y_train, hme.predict(x=x_train))"
   ]
  },
  {
   "cell_type": "code",
   "execution_count": 8,
   "id": "6829c7c5",
   "metadata": {},
   "outputs": [
    {
     "name": "stdout",
     "output_type": "stream",
     "text": [
      "0.823\n"
     ]
    },
    {
     "data": {
      "text/plain": [
       "array([[404,  99],\n",
       "       [ 78, 419]])"
      ]
     },
     "execution_count": 8,
     "metadata": {},
     "output_type": "execute_result"
    }
   ],
   "source": [
    "print((hme.predict(x=x_test)==y_test).mean())\n",
    "confusion_matrix(y_test, hme.predict(x=x_test))"
   ]
  },
  {
   "cell_type": "markdown",
   "id": "38c2bacd",
   "metadata": {},
   "source": [
    "# Decision Tree"
   ]
  },
  {
   "cell_type": "code",
   "execution_count": 15,
   "id": "d85c0bdc",
   "metadata": {},
   "outputs": [
    {
     "data": {
      "text/plain": [
       "DecisionTreeClassifier()"
      ]
     },
     "execution_count": 15,
     "metadata": {},
     "output_type": "execute_result"
    }
   ],
   "source": [
    "from sklearn.tree import DecisionTreeClassifier\n",
    "\n",
    "dt = DecisionTreeClassifier()\n",
    "dt.fit(x_train, y_train.ravel())"
   ]
  },
  {
   "cell_type": "code",
   "execution_count": 16,
   "id": "68c2cc89",
   "metadata": {},
   "outputs": [
    {
     "name": "stdout",
     "output_type": "stream",
     "text": [
      "1.0\n"
     ]
    },
    {
     "data": {
      "text/plain": [
       "array([[2079,    0],\n",
       "       [   0, 1921]])"
      ]
     },
     "execution_count": 16,
     "metadata": {},
     "output_type": "execute_result"
    }
   ],
   "source": [
    "y_pred = dt.predict(x_train)\n",
    "y_real = y_train.ravel()\n",
    "\n",
    "print((y_pred==y_real).mean())\n",
    "confusion_matrix(y_real, y_pred)"
   ]
  },
  {
   "cell_type": "code",
   "execution_count": 17,
   "id": "3f8a4500",
   "metadata": {},
   "outputs": [
    {
     "name": "stdout",
     "output_type": "stream",
     "text": [
      "0.671\n"
     ]
    },
    {
     "data": {
      "text/plain": [
       "array([[355, 148],\n",
       "       [181, 316]])"
      ]
     },
     "execution_count": 17,
     "metadata": {},
     "output_type": "execute_result"
    }
   ],
   "source": [
    "y_pred = dt.predict(x_test)\n",
    "y_real = y_test.ravel()\n",
    "\n",
    "print((y_pred==y_real).mean())\n",
    "confusion_matrix(y_real, y_pred)"
   ]
  },
  {
   "cell_type": "code",
   "execution_count": null,
   "id": "76c91cad",
   "metadata": {},
   "outputs": [],
   "source": []
  },
  {
   "cell_type": "markdown",
   "id": "c4d42bf5",
   "metadata": {},
   "source": [
    "# Random Forest"
   ]
  },
  {
   "cell_type": "code",
   "execution_count": 21,
   "id": "61dbc891",
   "metadata": {},
   "outputs": [
    {
     "data": {
      "text/plain": [
       "RandomForestClassifier()"
      ]
     },
     "execution_count": 21,
     "metadata": {},
     "output_type": "execute_result"
    }
   ],
   "source": [
    "from sklearn.ensemble import RandomForestClassifier\n",
    "\n",
    "rf = RandomForestClassifier()\n",
    "rf.fit(x_train, y_train.ravel())"
   ]
  },
  {
   "cell_type": "code",
   "execution_count": 22,
   "id": "d0fb53d0",
   "metadata": {},
   "outputs": [
    {
     "name": "stdout",
     "output_type": "stream",
     "text": [
      "1.0\n"
     ]
    },
    {
     "data": {
      "text/plain": [
       "array([[2079,    0],\n",
       "       [   0, 1921]])"
      ]
     },
     "execution_count": 22,
     "metadata": {},
     "output_type": "execute_result"
    }
   ],
   "source": [
    "y_pred = rf.predict(x_train)\n",
    "y_real = y_train.ravel()\n",
    "\n",
    "print((y_pred==y_real).mean())\n",
    "confusion_matrix(y_real, y_pred)"
   ]
  },
  {
   "cell_type": "code",
   "execution_count": 23,
   "id": "d8dd0a32",
   "metadata": {},
   "outputs": [
    {
     "name": "stdout",
     "output_type": "stream",
     "text": [
      "0.817\n"
     ]
    },
    {
     "data": {
      "text/plain": [
       "array([[423,  80],\n",
       "       [103, 394]])"
      ]
     },
     "execution_count": 23,
     "metadata": {},
     "output_type": "execute_result"
    }
   ],
   "source": [
    "y_pred = rf.predict(x_test)\n",
    "y_real = y_test.ravel()\n",
    "\n",
    "print((y_pred==y_real).mean())\n",
    "confusion_matrix(y_real, y_pred)"
   ]
  },
  {
   "cell_type": "code",
   "execution_count": null,
   "id": "8fe34972",
   "metadata": {},
   "outputs": [],
   "source": []
  }
 ],
 "metadata": {
  "kernelspec": {
   "display_name": "Python 3",
   "language": "python",
   "name": "python3"
  },
  "language_info": {
   "codemirror_mode": {
    "name": "ipython",
    "version": 3
   },
   "file_extension": ".py",
   "mimetype": "text/x-python",
   "name": "python",
   "nbconvert_exporter": "python",
   "pygments_lexer": "ipython3",
   "version": "3.8.8"
  }
 },
 "nbformat": 4,
 "nbformat_minor": 5
}
