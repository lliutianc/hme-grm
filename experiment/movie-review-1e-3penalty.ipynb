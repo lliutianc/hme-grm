{
 "cells": [
  {
   "cell_type": "code",
   "execution_count": 17,
   "id": "d3fd33f6",
   "metadata": {},
   "outputs": [],
   "source": [
    "import pandas as pd\n",
    "import numpy as np\n",
    "\n",
    "from movie import load_movie\n",
    "from model import HME\n",
    "\n",
    "from sklearn.linear_model import SGDClassifier\n",
    "from sklearn.model_selection import train_test_split\n",
    "from sklearn.metrics import confusion_matrix"
   ]
  },
  {
   "cell_type": "code",
   "execution_count": 18,
   "id": "5fb65cc4",
   "metadata": {},
   "outputs": [],
   "source": [
    "x_train, x_test, y_train, y_test = load_movie('train', data_limit=5000, train_ratio=0.8)"
   ]
  },
  {
   "cell_type": "code",
   "execution_count": 20,
   "id": "dcbb5df5",
   "metadata": {},
   "outputs": [
    {
     "data": {
      "text/plain": [
       "(4000, 5879)"
      ]
     },
     "execution_count": 20,
     "metadata": {},
     "output_type": "execute_result"
    }
   ],
   "source": [
    "x_train.shape"
   ]
  },
  {
   "cell_type": "code",
   "execution_count": 50,
   "id": "4a3a6cdb",
   "metadata": {},
   "outputs": [],
   "source": [
    "n_feature = x_train.shape[1]\n",
    "n_level = 2\n",
    "\n",
    "n_expert1 = 4\n",
    "n_expert2 = 4\n",
    "\n",
    "hme = HME(n_feature, n_expert1, n_expert2, n_level, \n",
    "          batch_size=64,\n",
    "          lr=1., l1_coef=0.001, l21_coef=0.001,\n",
    "          algo='fista')"
   ]
  },
  {
   "cell_type": "code",
   "execution_count": 51,
   "id": "c6509c1d",
   "metadata": {},
   "outputs": [
    {
     "name": "stdout",
     "output_type": "stream",
     "text": [
      "0.4905\n"
     ]
    },
    {
     "data": {
      "text/plain": [
       "array([[ 828,  811],\n",
       "       [1227, 1134]])"
      ]
     },
     "execution_count": 51,
     "metadata": {},
     "output_type": "execute_result"
    }
   ],
   "source": [
    "print((hme.predict(x=x_train)==y_train).mean())\n",
    "confusion_matrix(hme.predict(x=x_train), y_train)"
   ]
  },
  {
   "cell_type": "code",
   "execution_count": 52,
   "id": "860f377b",
   "metadata": {},
   "outputs": [
    {
     "name": "stdout",
     "output_type": "stream",
     "text": [
      "[accu: 0.8405], [loss: 238.7313754109688], [nllk: 0.41603470149257066]\n",
      "[accu: 0.822], [loss: 743.610363029733], [nllk: 0.48080241702432025]\n",
      "[accu: 0.82325], [loss: 1212.5539655831633], [nllk: 0.4984524489401133]\n",
      "[accu: 0.82325], [loss: 1724.0699457166288], [nllk: 0.48599468015621167]\n",
      "[accu: 0.84225], [loss: 1999.9930961004195], [nllk: 0.40287905889492837]\n",
      "[accu: 0.8235], [loss: 2463.152891942818], [nllk: 0.4816103567426802]\n",
      "[accu: 0.83], [loss: 3225.82964651994], [nllk: 0.4367771267075806]\n",
      "[accu: 0.83225], [loss: 3828.643338929811], [nllk: 0.451551141707935]\n",
      "[accu: 0.8275], [loss: 4555.814224600572], [nllk: 0.4956330469048567]\n",
      "stop increasing accuracy at iter: 1800\n"
     ]
    }
   ],
   "source": [
    "max_iter = 10000\n",
    "stop_thre = 3\n",
    "\n",
    "hme.fit(x_train, y_train, max_iter=max_iter, stop_thre=stop_thre, log_interval=max_iter // 50)"
   ]
  },
  {
   "cell_type": "code",
   "execution_count": 53,
   "id": "0de47ee6",
   "metadata": {},
   "outputs": [
    {
     "name": "stdout",
     "output_type": "stream",
     "text": [
      "0.8275\n"
     ]
    },
    {
     "data": {
      "text/plain": [
       "array([[1660,  395],\n",
       "       [ 295, 1650]])"
      ]
     },
     "execution_count": 53,
     "metadata": {},
     "output_type": "execute_result"
    }
   ],
   "source": [
    "print((hme.predict(x=x_train)==y_train).mean())\n",
    "confusion_matrix(y_train, hme.predict(x=x_train))"
   ]
  },
  {
   "cell_type": "code",
   "execution_count": 54,
   "id": "df46d57e",
   "metadata": {},
   "outputs": [
    {
     "name": "stdout",
     "output_type": "stream",
     "text": [
      "0.791\n"
     ]
    },
    {
     "data": {
      "text/plain": [
       "array([[416, 111],\n",
       "       [ 98, 375]])"
      ]
     },
     "execution_count": 54,
     "metadata": {},
     "output_type": "execute_result"
    }
   ],
   "source": [
    "print((hme.predict(x=x_test)==y_test).mean())\n",
    "confusion_matrix(y_test, hme.predict(x=x_test))"
   ]
  }
 ],
 "metadata": {
  "kernelspec": {
   "display_name": "Python 3",
   "language": "python",
   "name": "python3"
  },
  "language_info": {
   "codemirror_mode": {
    "name": "ipython",
    "version": 3
   },
   "file_extension": ".py",
   "mimetype": "text/x-python",
   "name": "python",
   "nbconvert_exporter": "python",
   "pygments_lexer": "ipython3",
   "version": "3.8.8"
  }
 },
 "nbformat": 4,
 "nbformat_minor": 5
}
